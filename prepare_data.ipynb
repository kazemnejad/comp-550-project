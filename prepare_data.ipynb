{
 "cells": [
  {
   "cell_type": "code",
   "execution_count": 1,
   "metadata": {},
   "outputs": [],
   "source": [
    "import json\n",
    "from datasets import load_dataset\n",
    "\n",
    "def write_split(ds, ds_path, sp_name, add_cls=False):\n",
    "  with open(f\"{ds_path}/{sp_name}.json\", \"w\") as ff:\n",
    "    for d in ds:\n",
    "      if add_cls:\n",
    "        d[\"text\"] = \"@@@CLS@@@ \" + d[\"text\"]\n",
    "      \n",
    "      ff.write(f\"{json.dumps(d)}\\n\")"
   ]
  },
  {
   "cell_type": "markdown",
   "metadata": {},
   "source": [
    "## AG News"
   ]
  },
  {
   "cell_type": "code",
   "execution_count": 2,
   "metadata": {},
   "outputs": [
    {
     "name": "stderr",
     "output_type": "stream",
     "text": [
      "Using custom data configuration default\n",
      "Reusing dataset ag_news (/home/mila/a/amirhossein.kazemnejad/.cache/huggingface/datasets/ag_news/default/0.0.0/bc2bcb40336ace1a0374767fc29bb0296cdaf8a6da7298436239c54d79180548)\n",
      "Using custom data configuration default\n",
      "Reusing dataset ag_news (/home/mila/a/amirhossein.kazemnejad/.cache/huggingface/datasets/ag_news/default/0.0.0/bc2bcb40336ace1a0374767fc29bb0296cdaf8a6da7298436239c54d79180548)\n",
      "Using custom data configuration default\n",
      "Reusing dataset ag_news (/home/mila/a/amirhossein.kazemnejad/.cache/huggingface/datasets/ag_news/default/0.0.0/bc2bcb40336ace1a0374767fc29bb0296cdaf8a6da7298436239c54d79180548)\n"
     ]
    }
   ],
   "source": [
    "! mkdir -p data/ag_news/\n",
    "\n",
    "train_ds = load_dataset('ag_news', split=\"train[:80%]\")\n",
    "valid_ds = load_dataset('ag_news', split=\"train[-20%:]\")\n",
    "test_ds = load_dataset('ag_news', split=\"test\")\n",
    "\n",
    "write_split(train_ds, \"data/ag_news/\",\"train\")\n",
    "write_split(valid_ds, \"data/ag_news/\",\"valid\")\n",
    "write_split(test_ds, \"data/ag_news/\",\"test\")"
   ]
  },
  {
   "cell_type": "code",
   "execution_count": null,
   "metadata": {},
   "outputs": [],
   "source": [
    "! allennlp build-vocab training_configs/vocab_agnews.jsonnet data/ag_news/vocabulary.tar.gz"
   ]
  },
  {
   "cell_type": "markdown",
   "metadata": {},
   "source": [
    "## Yelp Full"
   ]
  },
  {
   "cell_type": "code",
   "execution_count": 3,
   "metadata": {},
   "outputs": [
    {
     "name": "stderr",
     "output_type": "stream",
     "text": [
      "Reusing dataset yelp_review_full (/home/mila/a/amirhossein.kazemnejad/.cache/huggingface/datasets/yelp_review_full/yelp_review_full/1.0.0/13c31a618ba62568ec8572a222a283dfc29a6517776a3ac5945fb508877dde43)\n",
      "Reusing dataset yelp_review_full (/home/mila/a/amirhossein.kazemnejad/.cache/huggingface/datasets/yelp_review_full/yelp_review_full/1.0.0/13c31a618ba62568ec8572a222a283dfc29a6517776a3ac5945fb508877dde43)\n",
      "Reusing dataset yelp_review_full (/home/mila/a/amirhossein.kazemnejad/.cache/huggingface/datasets/yelp_review_full/yelp_review_full/1.0.0/13c31a618ba62568ec8572a222a283dfc29a6517776a3ac5945fb508877dde43)\n"
     ]
    }
   ],
   "source": [
    "! mkdir -p data/yelp/\n",
    "\n",
    "train_ds = load_dataset('yelp_review_full', split=\"train[:80%]\")\n",
    "valid_ds = load_dataset('yelp_review_full', split=\"train[-20%:]\")\n",
    "test_ds = load_dataset('yelp_review_full', split=\"test\")\n",
    "\n",
    "write_split(train_ds, \"data/yelp/\",\"train\")\n",
    "write_split(valid_ds, \"data/yelp/\",\"valid\")\n",
    "write_split(test_ds, \"data/yelp/\",\"test\")"
   ]
  },
  {
   "cell_type": "code",
   "execution_count": null,
   "metadata": {},
   "outputs": [],
   "source": [
    "! allennlp build-vocab training_configs/vocab_yelp.jsonnet data/yelp/vocabulary.tar.gz"
   ]
  }
 ],
 "metadata": {
  "interpreter": {
   "hash": "7b6a56eb2d4a31fd4e3487f126c5b04823a7eb289f8eabbdbe7687e9dc5e8d41"
  },
  "kernelspec": {
   "display_name": "Python 3.8.12 64-bit ('comp-550-project': conda)",
   "language": "python",
   "name": "python3"
  },
  "language_info": {
   "codemirror_mode": {
    "name": "ipython",
    "version": 3
   },
   "file_extension": ".py",
   "mimetype": "text/x-python",
   "name": "python",
   "nbconvert_exporter": "python",
   "pygments_lexer": "ipython3",
   "version": "3.8.12"
  },
  "orig_nbformat": 4
 },
 "nbformat": 4,
 "nbformat_minor": 2
}
